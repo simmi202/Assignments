{
  "nbformat": 4,
  "nbformat_minor": 0,
  "metadata": {
    "colab": {
      "provenance": []
    },
    "kernelspec": {
      "name": "python3",
      "display_name": "Python 3"
    },
    "language_info": {
      "name": "python"
    }
  },
  "cells": [
    {
      "cell_type": "code",
      "execution_count": null,
      "metadata": {
        "id": "mR5O65MFdnQu"
      },
      "outputs": [],
      "source": []
    },
    {
      "cell_type": "markdown",
      "source": [
        "1. Explain the purpose and advantages of NumPy in scientific computing and data analysis. How does it\n",
        "enhance Python's capabilities for numerical operations?\n",
        "\n",
        "Ans: Numpy has been built using C which is the fastest programming language after C++ so because of that it is very fast. Also, unlike the python lists which stores heterogeneous data , Numpy arrays only store homogeneous data i.e the elements in the array can only be of same datatype. Furthermore, the elements in the numpy array are stored at contigous memory locations which enchnace the memory accessing capability thus enhancing the data operations significantly as compared to python lists.\n"
      ],
      "metadata": {
        "id": "bP53lJ3xnfCg"
      }
    },
    {
      "cell_type": "markdown",
      "source": [
        "2. Compare and contrast np.mean() and np.average() functions in NumPy. When would you use one over the\n",
        "other?\n",
        "\n",
        "Ans: np.mean() and np.average() both are used to calculate the mean of the elements of the array. But when we need to calculate the weighted average then np.average() is preferred. So, np.mean() is used to calculate only the arithmetic mean i.e. all the elements in the array has equal weights.\n",
        "Syntax : np.mean(array , axis = None)\n",
        "\n",
        "np.average() is used to calculate the arithmetic and weighted average i.e. the elements in the numpy array may or may not have equal weights. Syntax: np.average(array,axis=None,weight = None)\n"
      ],
      "metadata": {
        "id": "wN2QFM77nimi"
      }
    },
    {
      "cell_type": "markdown",
      "source": [
        "3. Describe the methods for reversing a NumPy array along different axes. Provide examples for 1D and 2D\n",
        "arrays.\n",
        "\n",
        "Ans: Methods for reversing the Numpy arrays:\n",
        "1. By using Flip : np.flip(numpy_arr)\n",
        "2. By list slicing : numpy_arr[::-1]"
      ],
      "metadata": {
        "id": "eMVZ2TfxuXd-"
      }
    },
    {
      "cell_type": "code",
      "source": [
        "import numpy as np\n",
        "# 2-D Array\n",
        "arr_1 = np.random.randint(1,10,(2,2))\n",
        "print(arr_1)\n",
        "print(np.flip(arr_1))\n",
        "print(arr_1[::-1,::-1])\n",
        "\n",
        "\n",
        "# 1-D Array\n",
        "arr_2 = np.random.randint(1,10,5)\n",
        "print(arr_2)\n",
        "print(np.flip(arr_2))\n",
        "print(arr_2[::-1])"
      ],
      "metadata": {
        "colab": {
          "base_uri": "https://localhost:8080/"
        },
        "id": "kPY281XcsGrM",
        "outputId": "34a5d310-075e-4b7a-b225-5bd9a63ed83d"
      },
      "execution_count": null,
      "outputs": [
        {
          "output_type": "stream",
          "name": "stdout",
          "text": [
            "[[4 1]\n",
            " [9 1]]\n",
            "[[1 9]\n",
            " [1 4]]\n",
            "[[1 9]\n",
            " [1 4]]\n",
            "[3 6 8 1 6]\n",
            "[6 1 8 6 3]\n",
            "[6 1 8 6 3]\n"
          ]
        }
      ]
    },
    {
      "cell_type": "markdown",
      "source": [
        "4. How can you determine the data type of elements in a NumPy array? Discuss the importance of data types\n",
        "in memory management and performance.\n",
        "\n",
        "  Ans: To determine the data type of a numpy array , we use dtype keyword. In python list we can store heterogeneous data i.e. elements having different data types can be stored in it. Due to which the elements of the array are stored at different memory locations. But in numpy array elements of same data type are stored which are stored at contigous memory locations. Bcoz of this the access is faster thus increasing the performance by making operations faster."
      ],
      "metadata": {
        "id": "kPowaEXL8VwM"
      }
    },
    {
      "cell_type": "code",
      "source": [
        "arr_1.dtype"
      ],
      "metadata": {
        "colab": {
          "base_uri": "https://localhost:8080/"
        },
        "id": "DhyW4K0l8oFc",
        "outputId": "28aebdde-e90d-402e-8bda-16d281b2f15e"
      },
      "execution_count": null,
      "outputs": [
        {
          "output_type": "execute_result",
          "data": {
            "text/plain": [
              "dtype('int64')"
            ]
          },
          "metadata": {},
          "execution_count": 22
        }
      ]
    },
    {
      "cell_type": "markdown",
      "source": [
        "5. Define ndarrays in NumPy and explain their key features. How do they differ from standard Python lists?\n",
        "\n",
        "Ans: Nd arrays are called as N-dimensional arrays.Key Features:\n",
        "\n",
        "1. They can be used to represent any dimension array(1D,2D etc.)\n",
        "\n",
        "2. The elements are stored at contigous memory locations.\n",
        "\n",
        "3. The elements can only be of same data type.\n",
        "\n",
        "4. Indexing and slicing can be used to access array elements.\n",
        "\n",
        "5. Numpy arrays are built using C which makes the scientific operations faster.\n",
        "\n",
        "Unlike python list which can store heterogeneous data . Also the data are not stored in contigous form."
      ],
      "metadata": {
        "id": "HlLELPrh_F7a"
      }
    },
    {
      "cell_type": "markdown",
      "source": [
        "6. Analyze the performance benefits of NumPy arrays over Python lists for large-scale numerical operations.\n",
        "\n",
        "Ans: The python lists stores heterogeneous data whereas Numpy arrays only store homogeneous data i.e the elements in the array are of same datatype. Furthermore, the elements in the numpy array are stored at contigous memory locations which enchnace the memory accessing capability thus enhancing the data operations significantly as compared to python lists."
      ],
      "metadata": {
        "id": "jTLcw_GdBaOJ"
      }
    },
    {
      "cell_type": "code",
      "source": [],
      "metadata": {
        "id": "sBWaa6Iz8qxq"
      },
      "execution_count": null,
      "outputs": []
    },
    {
      "cell_type": "markdown",
      "source": [
        "7. Compare vstack() and hstack() functions in NumPy. Provide examples demonstrating their usage and\n",
        "output\n",
        "\n",
        "Ans: vstack() and hstack() funcions stands for vertical stack and horizontal stack respectively. Both these functions are used to stack two or more arrays vertically or horizontally. vstack() is used to stack two or more arrays vertically thus increasing the number of columns which is the sum of column nos of all the arrays. Similarly, hstack() is used to stack two or more arrays horizontally thus increasing the number of rows in the resultant array."
      ],
      "metadata": {
        "id": "nJ4_risNBx6Q"
      }
    },
    {
      "cell_type": "code",
      "source": [
        "import numpy as np\n",
        "arr_3 = np.random.randint(1,100,(5,5))\n",
        "arr_4 = np.random.randint(5,40,(5,5))\n",
        "\n",
        "vert_arr = np.vstack((arr_3,arr_4))\n",
        "hor_arr=np.hstack((arr_3,arr_4))\n",
        "print(arr_3)\n",
        "print(arr_4)\n",
        "print(vert_arr)\n",
        "print(hor_arr)"
      ],
      "metadata": {
        "colab": {
          "base_uri": "https://localhost:8080/"
        },
        "id": "CrOm76ZbC4qE",
        "outputId": "d04ca3b1-fdc9-40a5-800d-267eb30109e6"
      },
      "execution_count": null,
      "outputs": [
        {
          "output_type": "stream",
          "name": "stdout",
          "text": [
            "[[76 43 90 54 45]\n",
            " [ 1  4 18 97 37]\n",
            " [11 23 14 71 30]\n",
            " [86 67 54 20 41]\n",
            " [10 11 56 60 18]]\n",
            "[[21 30  9  9 16]\n",
            " [15 29 35 17 32]\n",
            " [18 36 24 15 38]\n",
            " [22 14 36 11 17]\n",
            " [17 38 12 31 19]]\n",
            "[[76 43 90 54 45]\n",
            " [ 1  4 18 97 37]\n",
            " [11 23 14 71 30]\n",
            " [86 67 54 20 41]\n",
            " [10 11 56 60 18]\n",
            " [21 30  9  9 16]\n",
            " [15 29 35 17 32]\n",
            " [18 36 24 15 38]\n",
            " [22 14 36 11 17]\n",
            " [17 38 12 31 19]]\n",
            "[[76 43 90 54 45 21 30  9  9 16]\n",
            " [ 1  4 18 97 37 15 29 35 17 32]\n",
            " [11 23 14 71 30 18 36 24 15 38]\n",
            " [86 67 54 20 41 22 14 36 11 17]\n",
            " [10 11 56 60 18 17 38 12 31 19]]\n"
          ]
        }
      ]
    },
    {
      "cell_type": "markdown",
      "source": [
        "8. Explain the differences between fliplr() and flipud() methods in NumPy, including their effects on various\n",
        "array dimensions.\n",
        "\n",
        "Ans: fliplr() and flipur() functions are used to reverse the elements order in a N-dimensional numpy array. fliplr() - flip left to right- flips the array from left to right i.e. reverse the column elements. flipud() - flip up to dowm - flips the array from upward to downward - reverse the rows."
      ],
      "metadata": {
        "id": "3xI2wJQlbAah"
      }
    },
    {
      "cell_type": "code",
      "source": [
        "import numpy as np\n",
        "arr_1 = np.random.randint(1,10,(2,3))\n",
        "\n",
        "print(arr_1)\n",
        "\n",
        "print(np.fliplr(arr_1))\n",
        "print(np.flipud(arr_1))"
      ],
      "metadata": {
        "colab": {
          "base_uri": "https://localhost:8080/"
        },
        "id": "lWZojlUnaX-M",
        "outputId": "9322c494-aebd-4bdd-a864-ab749f1f4a53"
      },
      "execution_count": null,
      "outputs": [
        {
          "output_type": "stream",
          "name": "stdout",
          "text": [
            "[[9 5 1]\n",
            " [4 7 9]]\n",
            "[[1 5 9]\n",
            " [9 7 4]]\n",
            "[[4 7 9]\n",
            " [9 5 1]]\n"
          ]
        }
      ]
    },
    {
      "cell_type": "markdown",
      "source": [
        "9. Discuss the functionality of the array_split() method in NumPy. How does it handle uneven splits?\n",
        "\n",
        "Ans: array_split() method in numpy is used to split an array into multiple subarrays.\n",
        "\n",
        "Syntax: np.array_split(array , sections , axis)\n",
        "\n",
        "When the array cannot be divided into subarrays of equal sizes , then in that case the array is divided into subarrays of unequal sizes in which the first few subarrays may have more elements than the rest subarrays."
      ],
      "metadata": {
        "id": "hZ0lnjJtd6ag"
      }
    },
    {
      "cell_type": "markdown",
      "source": [
        "10. Explain the concepts of vectorization and broadcasting in NumPy. How do they contribute to efficient array\n",
        "operations?\n",
        "\n",
        "Ans: Vectroization is the concept of numpy in which the array operations are performed all at once but broadcasting is the concept used in numpy to perform operations in which the array operation is divided into smaller tasks to perform operations on different shape arrays."
      ],
      "metadata": {
        "id": "v69IQW4rleMR"
      }
    },
    {
      "cell_type": "markdown",
      "source": [
        "### ***PRACTICAL QUESTIONS***\n"
      ],
      "metadata": {
        "id": "s0pfqdOHeRFY"
      }
    },
    {
      "cell_type": "markdown",
      "source": [
        "1. Create a 3x3 NumPy array with random integers between 1 and 100. Then, interchange its rows and columns."
      ],
      "metadata": {
        "id": "XZofHqM8eYem"
      }
    },
    {
      "cell_type": "code",
      "source": [
        "import numpy as np\n",
        "arr = np.random.randint(1,100,(3,3))\n",
        "print(arr)\n",
        "print(arr.T)"
      ],
      "metadata": {
        "colab": {
          "base_uri": "https://localhost:8080/"
        },
        "id": "1t2OTV9aebvk",
        "outputId": "8896dc12-ca1f-4593-bc5c-11a3353e746a"
      },
      "execution_count": null,
      "outputs": [
        {
          "output_type": "stream",
          "name": "stdout",
          "text": [
            "[[25 64 63]\n",
            " [37 51  2]\n",
            " [36 27 67]]\n",
            "[[25 37 36]\n",
            " [64 51 27]\n",
            " [63  2 67]]\n"
          ]
        }
      ]
    },
    {
      "cell_type": "markdown",
      "source": [
        "2. Generate a 1D NumPy array with 10 elements. Reshape it into a 2x5 array, then into a 5x2 array."
      ],
      "metadata": {
        "id": "c3VN-KN1hLch"
      }
    },
    {
      "cell_type": "code",
      "source": [
        "arr_1 = np.random.randint(1,100,10)\n",
        "print(arr_1)\n",
        "print(arr_1.reshape(2,5))\n",
        "print(arr_1.reshape(5,2))"
      ],
      "metadata": {
        "colab": {
          "base_uri": "https://localhost:8080/"
        },
        "id": "OG4dYdH_hOfI",
        "outputId": "2080dba6-3c35-4558-b4c7-791477de277c"
      },
      "execution_count": null,
      "outputs": [
        {
          "output_type": "stream",
          "name": "stdout",
          "text": [
            "[53 35 41 43 67 57 85  3 44 37]\n",
            "[[53 35 41 43 67]\n",
            " [57 85  3 44 37]]\n",
            "[[53 35]\n",
            " [41 43]\n",
            " [67 57]\n",
            " [85  3]\n",
            " [44 37]]\n"
          ]
        }
      ]
    },
    {
      "cell_type": "markdown",
      "source": [
        "3. Create a 4x4 NumPy array with random float values. Add a border of zeros around it, resulting in a 6x6 array."
      ],
      "metadata": {
        "id": "2wA5qZsyhmOZ"
      }
    },
    {
      "cell_type": "code",
      "source": [
        "arr_2 = np.random.random_sample((4,4))\n",
        "print(arr_2)\n",
        "zero_arr = np.zeros((6,6))\n",
        "zero_arr[1:5,1:5] = arr_2\n",
        "print(zero_arr)"
      ],
      "metadata": {
        "colab": {
          "base_uri": "https://localhost:8080/"
        },
        "id": "kogjSsm3hqfp",
        "outputId": "88286502-5e23-4484-a4c6-353b54b68a14"
      },
      "execution_count": null,
      "outputs": [
        {
          "output_type": "stream",
          "name": "stdout",
          "text": [
            "[[0.62813936 0.1379699  0.13737316 0.25992849]\n",
            " [0.94194882 0.08414094 0.37629358 0.57519304]\n",
            " [0.30187325 0.5138695  0.06250474 0.4531989 ]\n",
            " [0.71288084 0.98335868 0.04955337 0.13322961]]\n",
            "[[0.         0.         0.         0.         0.         0.        ]\n",
            " [0.         0.62813936 0.1379699  0.13737316 0.25992849 0.        ]\n",
            " [0.         0.94194882 0.08414094 0.37629358 0.57519304 0.        ]\n",
            " [0.         0.30187325 0.5138695  0.06250474 0.4531989  0.        ]\n",
            " [0.         0.71288084 0.98335868 0.04955337 0.13322961 0.        ]\n",
            " [0.         0.         0.         0.         0.         0.        ]]\n"
          ]
        }
      ]
    },
    {
      "cell_type": "markdown",
      "source": [
        "4. Using NumPy, create an array of integers from 10 to 60 with a step of 5."
      ],
      "metadata": {
        "id": "NFIC5p4vnKkv"
      }
    },
    {
      "cell_type": "code",
      "source": [
        "rand_arr = np.arange(10,60,5)\n",
        "print(rand_arr)"
      ],
      "metadata": {
        "colab": {
          "base_uri": "https://localhost:8080/"
        },
        "id": "3YXOpQUGnNNv",
        "outputId": "e714deff-9210-420c-d4c4-6787eccf8a29"
      },
      "execution_count": null,
      "outputs": [
        {
          "output_type": "stream",
          "name": "stdout",
          "text": [
            "[10 15 20 25 30 35 40 45 50 55]\n"
          ]
        }
      ]
    },
    {
      "cell_type": "markdown",
      "source": [
        "5. Create a NumPy array of strings ['python', 'numpy', 'pandas']. Apply different case transformations\n",
        "(uppercase, lowercase, title case, etc.) to each element."
      ],
      "metadata": {
        "id": "NOMCfWmUnZD9"
      }
    },
    {
      "cell_type": "code",
      "source": [
        "str_arr = np.array(['python','numpy','pandas'])\n",
        "print(np.char.upper(str_arr))\n",
        "print(np.char.lower(str_arr))\n",
        "print(np.char.capitalize(str_arr))\n"
      ],
      "metadata": {
        "colab": {
          "base_uri": "https://localhost:8080/"
        },
        "id": "0mFCAvz7ngvW",
        "outputId": "a726e0d3-1646-48fb-9009-5ad4b5b57547"
      },
      "execution_count": null,
      "outputs": [
        {
          "output_type": "stream",
          "name": "stdout",
          "text": [
            "['PYTHON' 'NUMPY' 'PANDAS']\n",
            "['python' 'numpy' 'pandas']\n",
            "['Python' 'Numpy' 'Pandas']\n"
          ]
        }
      ]
    },
    {
      "cell_type": "markdown",
      "source": [
        "6. Generate a NumPy array of words. Insert a space between each character of every word in the array"
      ],
      "metadata": {
        "id": "JtAiN5zhoWmR"
      }
    },
    {
      "cell_type": "code",
      "source": [
        "word_arr = np.array([\"simran\" , \"singh\"])\n"
      ],
      "metadata": {
        "id": "HHg1QrZ81-Dy"
      },
      "execution_count": null,
      "outputs": []
    },
    {
      "cell_type": "markdown",
      "source": [
        "7. Create two 2D NumPy arrays and perform element-wise addition, subtraction, multiplication, and division."
      ],
      "metadata": {
        "id": "cYu9DCpM4e2J"
      }
    },
    {
      "cell_type": "code",
      "source": [
        "arr1 = np.random.randint(1,40,(5,4))\n",
        "arr2 = np.random.randint(1,40,(5,4))\n",
        "print(arr1)\n",
        "print(arr2)\n",
        "print(arr1+arr2)\n",
        "print(arr1-arr2)\n",
        "print(arr1*arr2)\n",
        "print(arr1/arr2)"
      ],
      "metadata": {
        "colab": {
          "base_uri": "https://localhost:8080/"
        },
        "id": "hNo43t9W4h4l",
        "outputId": "477db702-6351-401d-94d2-67e7b1616add"
      },
      "execution_count": null,
      "outputs": [
        {
          "output_type": "stream",
          "name": "stdout",
          "text": [
            "[[25 30 29 32]\n",
            " [ 9 13 31 31]\n",
            " [12  2 31 31]\n",
            " [20  6 38 10]\n",
            " [ 7 33 26 28]]\n",
            "[[29 26  5  4]\n",
            " [ 1 23 14  2]\n",
            " [29 22 22 32]\n",
            " [15 29  4 21]\n",
            " [ 5 24 10 10]]\n",
            "[[54 56 34 36]\n",
            " [10 36 45 33]\n",
            " [41 24 53 63]\n",
            " [35 35 42 31]\n",
            " [12 57 36 38]]\n",
            "[[ -4   4  24  28]\n",
            " [  8 -10  17  29]\n",
            " [-17 -20   9  -1]\n",
            " [  5 -23  34 -11]\n",
            " [  2   9  16  18]]\n",
            "[[725 780 145 128]\n",
            " [  9 299 434  62]\n",
            " [348  44 682 992]\n",
            " [300 174 152 210]\n",
            " [ 35 792 260 280]]\n",
            "[[ 0.86206897  1.15384615  5.8         8.        ]\n",
            " [ 9.          0.56521739  2.21428571 15.5       ]\n",
            " [ 0.4137931   0.09090909  1.40909091  0.96875   ]\n",
            " [ 1.33333333  0.20689655  9.5         0.47619048]\n",
            " [ 1.4         1.375       2.6         2.8       ]]\n"
          ]
        }
      ]
    },
    {
      "cell_type": "markdown",
      "source": [
        "8. Use NumPy to create a 5x5 identity matrix, then extract its diagonal elements."
      ],
      "metadata": {
        "id": "-zWfC6HK4z-5"
      }
    },
    {
      "cell_type": "code",
      "source": [
        "arr = np.eye(5)\n",
        "arr[arr==1]"
      ],
      "metadata": {
        "colab": {
          "base_uri": "https://localhost:8080/"
        },
        "id": "uf62KU7Y4xqS",
        "outputId": "f0b1a698-1625-408b-f125-7ab355086ec2"
      },
      "execution_count": null,
      "outputs": [
        {
          "output_type": "execute_result",
          "data": {
            "text/plain": [
              "array([1., 1., 1., 1., 1.])"
            ]
          },
          "metadata": {},
          "execution_count": 5
        }
      ]
    },
    {
      "cell_type": "markdown",
      "source": [
        "9. Generate a NumPy array of 100 random integers between 0 and 1000. Find and display all prime numbers in\n",
        "this array."
      ],
      "metadata": {
        "id": "tIMqBmsd5o-A"
      }
    },
    {
      "cell_type": "code",
      "source": [
        "import numpy as np\n",
        "prime_arr = np.random.randint(1,1000,100)\n",
        "lis = []\n",
        "flag = False\n",
        "for j in prime_arr:\n",
        "  flag = False\n",
        "  for i in range(2,j//2+1):\n",
        "    if(j%i == 0):\n",
        "      flag = True\n",
        "  if(flag == False):\n",
        "    lis.append(j)\n",
        "\n",
        "print(prime_arr)\n",
        "print(lis)"
      ],
      "metadata": {
        "colab": {
          "base_uri": "https://localhost:8080/"
        },
        "id": "JN-cIUKj5rpY",
        "outputId": "b2e97913-b5b6-449a-9690-cfbbe257555d"
      },
      "execution_count": null,
      "outputs": [
        {
          "output_type": "stream",
          "name": "stdout",
          "text": [
            "[ 74 653 978 829 522 362 270 906 422 924 636 487 608  17 796  20 385 119\n",
            " 957 105 523 813 577 683 492 358 734 926 607  31 799 688 748 257 228 699\n",
            " 314 968 235  89 187 514 732 591 677 644 493 429 353 960 337 332 538 708\n",
            " 588 256  21 618 375 685 297 235 309 110 219 416 519 763 211  96 817 271\n",
            " 940 789 753 803 611 154  61 243 311 491 759 670 621 332 785 654 990 589\n",
            " 876 998 360 327 293 287 610  36 408 579]\n",
            "[653, 829, 487, 17, 523, 577, 683, 607, 31, 257, 89, 677, 353, 337, 211, 271, 61, 311, 491, 293]\n"
          ]
        }
      ]
    },
    {
      "cell_type": "markdown",
      "source": [
        "10. Create a NumPy array representing daily temperatures for a month. Calculate and display the weekly\n",
        "averages."
      ],
      "metadata": {
        "id": "_QTwknOdiDPl"
      }
    },
    {
      "cell_type": "code",
      "source": [
        "temp_arr = np.random.randint(10,20,30)\n",
        "no_of_week = len(temp_arr)//7\n",
        "no_of_day = no_of_week * 7\n",
        "temp_arr = temp_arr[:no_of_day]\n",
        "new_arr = temp_arr.reshape(no_of_week,7)\n",
        "print(np.mean(new_arr,axis = 1))\n",
        "print(temp_arr)"
      ],
      "metadata": {
        "colab": {
          "base_uri": "https://localhost:8080/"
        },
        "id": "E0ny7ZsNiGMy",
        "outputId": "3d7373ad-f3d4-4ddc-ba2c-2b89211bf099"
      },
      "execution_count": null,
      "outputs": [
        {
          "output_type": "stream",
          "name": "stdout",
          "text": [
            "[13.71428571 13.71428571 16.14285714 13.71428571]\n",
            "[10 18 13 14 11 14 16 17 11 15 13 14 12 14 18 17 12 13 16 18 19 16 12 11\n",
            " 16 13 11 17]\n"
          ]
        }
      ]
    },
    {
      "cell_type": "code",
      "source": [
        "_"
      ],
      "metadata": {
        "id": "X-RNK_utjkr3"
      },
      "execution_count": null,
      "outputs": []
    }
  ]
}