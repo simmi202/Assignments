{
  "nbformat": 4,
  "nbformat_minor": 0,
  "metadata": {
    "colab": {
      "provenance": []
    },
    "kernelspec": {
      "name": "python3",
      "display_name": "Python 3"
    },
    "language_info": {
      "name": "python"
    }
  },
  "cells": [
    {
      "cell_type": "markdown",
      "source": [
        "1. Explain the different types of data (qualitative and quantitative) and provide examples of each. Discuss\n",
        "nominal, ordinal, interval, and ratio scales.\n",
        "\n",
        "Ans: There are mainly two different types of data:\n",
        "\n",
        "1. Qualitative - Qualitative data is mainly the data that is represented using string values. Eg: \" This an example of qualitative data\" , \"second\", \"third\".\n",
        "This type of data can further be divided into Ordinal Data and Nominal Data. Nominal data is the data in which there is no order and there is no meaning of differences. Eg: types of car - sedan, xuv and sports car. These type of cars doesnot have any order. Ordinal type of data is the data in which there is order in the data. Eg: In a class , students ranked as first, second, third. Using this we can interpret that the student ranked first is better than second ranked and which is again better than the third ranked student.\n",
        "\n",
        "\n",
        "\n",
        "2. Quantitaive - Quantitative data is the data that is represented using the numeric values. Eg: 3, 4 , 8. This type of data is further divided into dicrete and continous data. Discrete data is the one that takes whole numbers as the value. Eg : 3, 4. whereas Continous data can take any numeric value or any real numbers. Eg - 3.14, 6.78 .\n",
        "\n",
        "\n",
        "Different types of Scales:\n",
        "\n",
        "1. Nominal Scale - This scale is used to represent the nominal type of data. In this scale there is no meaning of ranking or difference.\n",
        "\n",
        "2. Ordinal Scale - This scale is used to represent the ordinal type of data. In this , the data has ranking but there is no meaning of differences.\n",
        "\n",
        "3. Interval Scale - This scale is used to represent the discrete data . Here, the difference makes sense but this scale doesnot necessarily has 0 as starting point.\n",
        "\n",
        "4. Ratio Scale-  This scale is used to reperesnt the continous data. Here, the difference makes sense and has 0 as the starting values. Thus , ratio can be calculated and thus compared for two or more data values.\n",
        "\n"
      ],
      "metadata": {
        "id": "T4SnKACvhTuu"
      }
    },
    {
      "cell_type": "markdown",
      "source": [
        "2. What are the measures of central tendency, and when should you use each? Discuss the mean, median,\n",
        "and mode with examples and situations where each is appropriate.\n",
        "\n",
        "Ans: The measures of central tendency are basically used to represent the whole data by a central value. This statistical method is used in the descreptive statistics.That means these are calculated when the whole population data is present.\n",
        "\n",
        "Mean: Mean is one of the measure of central tendency that is calculated by taking the sum of all the values and then dividing it by the number of values taken. The presence of outliers affect the mean value. Thus, in the absence of outliers mean value can be used to replace the missing values in a dataset.\n",
        "\n",
        "Median: Median is the second measure of central tendency that is used to represent the physical mid point of the data. The presence of outliers doesnot affect the median and thus median can be used to replace the missing values in presenceof outliers.\n",
        "\n",
        "Mode: Mean and median are used when we have numeric or quantitative data whereas the mode is used when we have the categorical data. This represent the\n",
        "the most frequent data point in the whole data."
      ],
      "metadata": {
        "id": "-1yEiX1EhTwo"
      }
    },
    {
      "cell_type": "code",
      "source": [
        "import numpy as np\n",
        "import scipy.stats as stats\n",
        "data = np.random.randint(1,100,10)\n",
        "print(data)\n",
        "print(f\"Mean of the dataset is : {np.mean(data)}\")\n",
        "print(f\"Median of the dataset is : {np.median(data)}\")\n",
        "print(f\"Mode of the dataset is : {stats.mode(data)}\")"
      ],
      "metadata": {
        "colab": {
          "base_uri": "https://localhost:8080/"
        },
        "id": "0WsoSymdm-HO",
        "outputId": "82d58ad7-8a84-4f6a-bb02-b2c36272dc71"
      },
      "execution_count": 6,
      "outputs": [
        {
          "output_type": "stream",
          "name": "stdout",
          "text": [
            "[52 42 69 35 23 73 75 13 51 97]\n",
            "Mean of the dataset is : 53.0\n",
            "Median of the dataset is : 51.5\n",
            "Mode of the dataset is : ModeResult(mode=13, count=1)\n"
          ]
        }
      ]
    },
    {
      "cell_type": "markdown",
      "source": [
        "3. Explain the concept of dispersion. How do variance and standard deviation measure the spread of data?\n",
        "\n",
        "Ans: Dispersion in statisctics is used to tell the how the data has been spread out. Dispersion in the data can be calculated using different methods like  range, percentages, percentiles, variance and standard deviation.\n",
        "\n",
        "Variance is defined as the average of the squared differences from the mean value of the data. It basically tells about the spread of data at an overall level.\n",
        "\n",
        "Standard deviation is used to tell how much the data is spread out. It tells the spread of data in terms of number from the mean value.\n",
        "\n"
      ],
      "metadata": {
        "id": "mxtxFy5xhT0g"
      }
    },
    {
      "cell_type": "code",
      "source": [
        "import numpy as np\n",
        "import statistics as stats\n",
        "data = np.random.randint(1,100,10)\n",
        "print(data)\n",
        "print(np.var(data).round(0))\n",
        "print(stats.pvariance(data))\n",
        "print(np.std(data))"
      ],
      "metadata": {
        "colab": {
          "base_uri": "https://localhost:8080/"
        },
        "id": "IiQwFXtMvlwG",
        "outputId": "34d19ede-50f9-4845-eaea-d70f915bc495"
      },
      "execution_count": 14,
      "outputs": [
        {
          "output_type": "stream",
          "name": "stdout",
          "text": [
            "[53 68 15 88 47 98 20 99 23 50]\n",
            "897.0\n",
            "897\n",
            "29.954799281584243\n"
          ]
        }
      ]
    },
    {
      "cell_type": "markdown",
      "source": [
        "4. What is a box plot, and what can it tell you about the distribution of data?\n",
        "\n",
        "Ans: Box plot is used to represent the data in form of box. This box plot is very much used to detect any outliers in the data. In the below example we can see a point very much distant from the box , this point is representing the outlier that is present in the data. Also, this box plot tells about the 25th, 50th and 75th percentile values of the data."
      ],
      "metadata": {
        "id": "QX188-VThT2L"
      }
    },
    {
      "cell_type": "code",
      "source": [
        "import seaborn as sns\n",
        "print(data)\n",
        "data[2] = 1000\n",
        "sns.boxplot(data)"
      ],
      "metadata": {
        "colab": {
          "base_uri": "https://localhost:8080/",
          "height": 446
        },
        "id": "vshg4JQEwW1L",
        "outputId": "451bda99-3ff3-4b56-c5d7-8b6c05757139"
      },
      "execution_count": 18,
      "outputs": [
        {
          "output_type": "stream",
          "name": "stdout",
          "text": [
            "[    53     68 100000     88     47     98     20     99     23     50]\n"
          ]
        },
        {
          "output_type": "execute_result",
          "data": {
            "text/plain": [
              "<Axes: >"
            ]
          },
          "metadata": {},
          "execution_count": 18
        },
        {
          "output_type": "display_data",
          "data": {
            "text/plain": [
              "<Figure size 640x480 with 1 Axes>"
            ],
            "image/png": "[encoded data removed]"
          },
          "metadata": {}
        }
      ]
    },
    {
      "cell_type": "markdown",
      "source": [
        "5. Discuss the role of random sampling in making inferences about populations.\n",
        "\n",
        "Ans. Random sampling is a sampling technique in which the samples are being taken at random from the population. In this sampling, the chances of all the population variables to be picked out is equal. But there is a major disadvantage of this type of sampling which is the unequal representation of certain groups in the sample ."
      ],
      "metadata": {
        "id": "maK2OULfhT4h"
      }
    },
    {
      "cell_type": "markdown",
      "source": [
        "6. Explain the concept of skewness and its types. How does skewness affect the interpretation of data?\n",
        "\n",
        "Ans: Skewness basically defines the shape of the distribution of the data. This concept is used in the descriptive statisctics in which the whole data is present. Skewness is of three types: No Skewness, Positive Skewness and Negative Skewness.\n",
        "\n",
        "No Skewness: That means the data is symmetrical and the mean, median, mode all are located at the same point.\n",
        "\n",
        "Postive Skewness: Here, the tail of the data distribution lies on the right side. This can also because of present of outliers on the right side of the data . Example is log normnal distribution.\n",
        "\n",
        "Negative Skewness: Here, the tail of the data distribution lies on the left side. This can also because of present of outliers on the left side of the data .\n",
        "\n"
      ],
      "metadata": {
        "id": "0uIMr_LqhT8A"
      }
    },
    {
      "cell_type": "code",
      "source": [
        "from scipy.stats import skew\n",
        "skew(data)"
      ],
      "metadata": {
        "colab": {
          "base_uri": "https://localhost:8080/"
        },
        "id": "jT5lUy8VymLe",
        "outputId": "62db97f3-376a-43f8-cb63-4d7d7a02fbf3"
      },
      "execution_count": 19,
      "outputs": [
        {
          "output_type": "execute_result",
          "data": {
            "text/plain": [
              "2.622520235811318"
            ]
          },
          "metadata": {},
          "execution_count": 19
        }
      ]
    },
    {
      "cell_type": "markdown",
      "source": [
        "7. What is the interquartile range (IQR), and how is it used to detect outliers?\n",
        "\n",
        "Ans: Interquartile range is defined as the difference between the 75th and 25th percentile values of the data. It mainly tells that most of the data is present within this range.\n",
        "\n",
        "Using this IQR, we calculate the upper fence and lower fence. Any value that is beyond the upper fence and lower fence is considered as an outlier.\n",
        "Upper fence = (75th percentile) +  1.5* IQR\n",
        "Lower fence = (25th percentile) -  1.5* IQR"
      ],
      "metadata": {
        "id": "zw0LfTZChT_n"
      }
    },
    {
      "cell_type": "markdown",
      "source": [
        "8. Discuss the conditions under which the binomial distribution is used.\n",
        "\n",
        "Ans: Binomial distribution is used when:\n",
        "1. There can only be two possible outcomes of an propability event.\n",
        "2. No of trials should be greater than 1.\n",
        "3. Every trial should be independent of each other.\n",
        "4. Probability of each event ie success and failure should be same in each trial.\n",
        "\n",
        "Basically, N bernaulli trials is called as Binomial distribution\n"
      ],
      "metadata": {
        "id": "WgJoeksOhUCN"
      }
    },
    {
      "cell_type": "markdown",
      "source": [
        "9. Explain the properties of the normal distribution and the empirical rule (68-95-99.7 rule).\n",
        "\n",
        "Ans: Properties of Normal Distribution:\n",
        "\n",
        "1.Symmetrical about mean.\n",
        "\n",
        "2.Skewness =0\n",
        "\n",
        "3.Mean=median=mode\n",
        "\n",
        "4.Follow empirical rule - (68-95-99.7 rule) -> This means that 68% of the data is present within 1 standard deviation from the mean, 95% of the data is present within 2 standard deviation from the mean and 99.7% of the data is present within 3 standard deviation from the mean,"
      ],
      "metadata": {
        "id": "V4f0HEkChUEl"
      }
    },
    {
      "cell_type": "markdown",
      "source": [
        "10. Provide a real-life example of a Poisson process and calculate the probability for a specific event.\n",
        "\n",
        "Ans: Example of poisson distribution is the number of avg calls coming on a telephone. This distribution teels about the no. of events occurring in a fixed interval of time.\n"
      ],
      "metadata": {
        "id": "y3SxEFBghUH9"
      }
    },
    {
      "cell_type": "markdown",
      "source": [
        "11. Explain what a random variable is and differentiate between discrete and continuous random variables.\n",
        "\n",
        "Ans: Random variable is the set of possible outcome values from a random experiment.\n",
        "\n",
        "Discrete random variables: These variables are the ones in which the outcome values are discrete and are represented using the Probability mass functions.\n",
        "\n",
        "Discrete random variables: These variables are the ones in which the outcome values are continous and are represented using the Probability density functions.\n"
      ],
      "metadata": {
        "id": "aIwsQEXx1sdX"
      }
    },
    {
      "cell_type": "markdown",
      "source": [
        "12. Provide an example dataset, calculate both covariance and correlation, and interpret the results.\n",
        "\n",
        "Ans: Covariance value here is negative that means there is an indirect relationship between the two data sets. Correlations negative value tell about the indirect relationship and the value tells about the degree of the indirect relationship."
      ],
      "metadata": {
        "id": "orEorjOk2Wvi"
      }
    },
    {
      "cell_type": "code",
      "source": [
        "import numpy as np\n",
        "import statistics as stats\n",
        "data1 = np.random.randint(1,100,10)\n",
        "data2 = np.random.randint(1,100,10)\n",
        "print(data)\n",
        "cov_matrix = np.cov(data1,data2)\n",
        "corr_matrix = np.corrcoef(data1,data2)\n",
        "print(cov_matrix[0,1].round(2))\n",
        "print(corr_matrix[0,1].round(2))"
      ],
      "metadata": {
        "colab": {
          "base_uri": "https://localhost:8080/"
        },
        "id": "ZCATuxnL2dwN",
        "outputId": "04f0d793-d1b3-4ba7-8c1f-4c9a038c25d2"
      },
      "execution_count": 33,
      "outputs": [
        {
          "output_type": "stream",
          "name": "stdout",
          "text": [
            "[52 10 64 55 43 39 33 23 81 99]\n",
            "-47.53\n",
            "-0.06\n"
          ]
        }
      ]
    },
    {
      "cell_type": "code",
      "source": [],
      "metadata": {
        "id": "sR05zD_p2iV9"
      },
      "execution_count": null,
      "outputs": []
    }
  ]
}